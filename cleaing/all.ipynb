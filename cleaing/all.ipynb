{
 "cells": [
  {
   "cell_type": "code",
   "execution_count": 119,
   "id": "6c7e3500-1521-420b-a531-f889ccb87b77",
   "metadata": {},
   "outputs": [],
   "source": [
    "import pandas as pd\n",
    "import numpy as np\n",
    "from sklearn.feature_extraction.text import CountVectorizer\n",
    "import csv\n",
    "\n",
    "from sklearn.feature_extraction import DictVectorizer\n",
    "from sklearn.feature_extraction.text import CountVectorizer\n",
    "from sklearn.svm import LinearSVC\n",
    "from sklearn.model_selection import train_test_split\n",
    "from sklearn.feature_extraction.text import CountVectorizer\n",
    "from sklearn.metrics import accuracy_score, f1_score, confusion_matrix, ConfusionMatrixDisplay\n",
    "from sklearn.model_selection import GridSearchCV"
   ]
  },
  {
   "cell_type": "code",
   "execution_count": 120,
   "id": "999d72bd-4178-4aff-a24f-e3ab9f32200e",
   "metadata": {},
   "outputs": [
    {
     "data": {
      "text/plain": [
       "8624"
      ]
     },
     "execution_count": 120,
     "metadata": {},
     "output_type": "execute_result"
    }
   ],
   "source": [
    "X_txt_train = [] \n",
    "ytrain = [] \n",
    "\n",
    "with open('final2.csv', encoding=\"utf8\") as tweetfile:\n",
    "    tweets = csv.reader(tweetfile,delimiter=',')\n",
    "    for row in tweets:\n",
    "        X_txt_train.append(row[5])\n",
    "        ytrain.append(row[0])\n",
    "        \n",
    "tweetfile.close()\n",
    "\n",
    "\n",
    "X_txt_train = np.array(X_txt_train) \n",
    "ytrain = np.array(ytrain)\n",
    "\n",
    "len(X_txt_train)"
   ]
  },
  {
   "cell_type": "code",
   "execution_count": 121,
   "id": "1a9ebfa6-721a-44a8-b410-160b139710bb",
   "metadata": {},
   "outputs": [],
   "source": [
    "vec = CountVectorizer(ngram_range=(1,4), stop_words='english') #unigrams and bigrams)\n",
    "X_txt = vec.fit_transform(X_txt_train)"
   ]
  },
  {
   "cell_type": "code",
   "execution_count": 122,
   "id": "dfa04f4c-5a80-4ebd-b50e-f4bd7f3370d3",
   "metadata": {},
   "outputs": [
    {
     "name": "stdout",
     "output_type": "stream",
     "text": [
      "(6899, 128397)\n",
      "(1725, 128397)\n"
     ]
    }
   ],
   "source": [
    "import scipy.sparse as sp\n",
    "from scipy.sparse import hstack\n",
    "import numpy as np\n",
    "np.random.seed(1)\n",
    "\n",
    "X_train, X_test, y_train, y_test = train_test_split(X_txt_train, ytrain, test_size=.2,random_state=123) # 80/20 percent split\n",
    "\n",
    "X_train_vec = vec.transform(X_train)\n",
    "X_test_vec = vec.transform(X_test)\n",
    "print(X_train_vec.shape)\n",
    "print(X_test_vec.shape)"
   ]
  },
  {
   "cell_type": "code",
   "execution_count": 123,
   "id": "f665ba72-c7f4-4d48-b28f-39380106cdee",
   "metadata": {},
   "outputs": [
    {
     "name": "stdout",
     "output_type": "stream",
     "text": [
      "{'C': 1}\n",
      "All targets f1 macro score: 0.6709686087051712\n",
      "f1 micro: 0.7333\n",
      "accuracy: 0.7333333333333333\n",
      "Precision: 0.6761\n",
      "Recall: 0.6671\n"
     ]
    }
   ],
   "source": [
    "from sklearn.metrics import precision_score, recall_score, f1_score\n",
    "from warnings import filterwarnings\n",
    "filterwarnings('ignore') #turning off convergence warnings because they are annoying!\n",
    "\n",
    "# all target words, offensive ci, and pos/neg lexicon\n",
    "\n",
    "svc = LinearSVC() \n",
    "parameters = {'C':[0.01, 0.1, 1,10]}\n",
    "clf = GridSearchCV(svc, parameters, cv=5, scoring = \"f1_macro\")\n",
    "clf.fit(X_train_vec,y_train)\n",
    "\n",
    "print(clf.best_params_)\n",
    "\n",
    "preds = clf.predict(X_test_vec)\n",
    "macrof1 = f1_score(y_test, preds,average = 'macro')\n",
    "accuracy = accuracy_score(y_test, preds)\n",
    "precision = precision_score(y_test, preds, average = 'macro') \n",
    "recall = recall_score(y_test, preds, average = 'macro') \n",
    "microf1 = f1_score(y_test, preds, average = 'micro')\n",
    "print('All targets f1 macro score:', macrof1)\n",
    "print(\"f1 micro: {:.4f}\".format(microf1))\n",
    "print(\"accuracy: {}\".format(accuracy))\n",
    "print(\"Precision: {:.4f}\".format(precision))\n",
    "print(\"Recall: {:.4f}\".format(recall))"
   ]
  },
  {
   "cell_type": "code",
   "execution_count": 124,
   "id": "77831b3d-3c54-4ae7-b1cb-b6469316089a",
   "metadata": {},
   "outputs": [
    {
     "data": {
      "text/plain": [
       "<sklearn.metrics._plot.confusion_matrix.ConfusionMatrixDisplay at 0x7fe6d4ce83d0>"
      ]
     },
     "execution_count": 124,
     "metadata": {},
     "output_type": "execute_result"
    },
    {
     "data": {
      "image/png": "[encoded data removed]",
      "text/plain": [
       "<Figure size 432x288 with 2 Axes>"
      ]
     },
     "metadata": {
      "needs_background": "light"
     },
     "output_type": "display_data"
    }
   ],
   "source": [
    "ConfusionMatrixDisplay.from_predictions(y_test, preds)"
   ]
  },
  {
   "cell_type": "code",
   "execution_count": 105,
   "id": "92f46cf3-2851-44df-baba-fe081b38752e",
   "metadata": {},
   "outputs": [
    {
     "name": "stdout",
     "output_type": "stream",
     "text": [
      "Card Text: Equipped creature gets +6/+6.\n",
      "Whenever equipped creature attacks, destroy target permanent.\n",
      "Equip {6}\n",
      "Ground-Truth Class: Yes\n",
      "Prediction: Yes\n",
      "\n",
      "Card Text: Enchant creature\n",
      "Enchanted creature has \"Whenever this creature attacks, it deals X damage to defending player, where X is the number of cards in their hand.\"\n",
      "When Unquenchable Fury is put into your graveyard from the battlefield, return it to your hand.\n",
      "Ground-Truth Class: Not\n",
      "Prediction: Not\n",
      "\n",
      "Card Text: Return target creature to its owner's hand.\n",
      "Ground-Truth Class: Yes\n",
      "Prediction: Not\n",
      "\n",
      "Card Text: At the beginning of your upkeep, sacrifice Solitary Confinement unless you discard a card.\n",
      "Skip your draw step.\n",
      "You have shroud. (You can't be the target of spells or abilities.)\n",
      "Prevent all damage that would be dealt to you.\n",
      "Ground-Truth Class: Yes\n",
      "Prediction: Not\n",
      "\n",
      "Card Text: Flying\n",
      "When Riftwing Cloudskate enters the battlefield, return target permanent to its owner's hand.\n",
      "Suspend 3—{1}{U} (Rather than cast this card from your hand, you may pay {1}{U} and exile it with three time counters on it. At the beginning of your upkeep, remove a time counter. When the last is removed, cast it without paying its mana cost. It has haste.)\n",
      "Ground-Truth Class: Not\n",
      "Prediction: Not\n",
      "\n"
     ]
    }
   ],
   "source": [
    "num_tweets = 0\n",
    "for pred, y, txt in zip(preds, y_test, X_test):\n",
    "    \n",
    "    print(\"Card Text: {}\".format(txt))\n",
    "    print(\"Ground-Truth Class: {}\".format(y))\n",
    "    print(\"Prediction: {}\".format(pred))\n",
    "    print()\n",
    "  \n",
    "    num_tweets += 1\n",
    "    if num_tweets == 5:\n",
    "        \n",
    "        break"
   ]
  },
  {
   "cell_type": "code",
   "execution_count": null,
   "id": "7c7a07bf-64a3-44c1-a2ba-a8b324842e8f",
   "metadata": {},
   "outputs": [],
   "source": []
  },
  {
   "cell_type": "markdown",
   "id": "b3cfd936-94d3-4c83-9e22-83196950a048",
   "metadata": {},
   "source": [
    "### Count vectorizor\n",
    "\n",
    "prints the top n terms in a the text column matrix\n",
    "\n",
    "- With single terms creature and target are the top two most frequent\n",
    "- With bigrams only \"enters battlefield\" and \"end turn\" appear most frequently\n",
    "- Finally with trigrams \"gets end turn\" and \"deals damage target\", \"Target creature gets\"\n",
    "\n",
    "Maybe print the average ranking that these terms appear in along with a probability that they are in the top 30%"
   ]
  },
  {
   "cell_type": "code",
   "execution_count": 171,
   "id": "06d3f80c-f69e-4e1d-83e1-30169768b427",
   "metadata": {},
   "outputs": [
    {
     "data": {
      "text/plain": [
       "2548"
      ]
     },
     "execution_count": 171,
     "metadata": {},
     "output_type": "execute_result"
    }
   ],
   "source": [
    "X_color_check = []\n",
    "\n",
    "with open('final2.csv', encoding=\"utf8\") as tweetfile:\n",
    "    tweets = csv.reader(tweetfile,delimiter=',')\n",
    "    for row in tweets:\n",
    "         X_color_check.append(row[5])\n",
    "        \n",
    "tweetfile.close()\n",
    "\n",
    "X_color_check = np.array(X_color_check) \n",
    "\n",
    "\n",
    "len(X_color_check)"
   ]
  },
  {
   "cell_type": "code",
   "execution_count": 172,
   "id": "e20c6484-9249-4195-bc34-38c1da4e7af5",
   "metadata": {},
   "outputs": [],
   "source": [
    "\n",
    "def get_top_n_words(corpus, n=None, n_grams1=1, n_grams2=1):\n",
    "\n",
    "    #vec = CountVectorizer(ngram_range=(n_grams1,n_grams2)).fit(corpus)\n",
    "    vec = CountVectorizer(ngram_range=(n_grams1,n_grams2), stop_words='english').fit(corpus)\n",
    "    bag_of_words = vec.transform(corpus)\n",
    "    sum_words = bag_of_words.sum(axis=0) \n",
    "    words_freq = [(word, sum_words[0, idx]) for word, idx in     vec.vocabulary_.items()]\n",
    "    words_freq =sorted(words_freq, key = lambda x: x[1], reverse=True)\n",
    "    return words_freq[:n]"
   ]
  },
  {
   "cell_type": "code",
   "execution_count": 173,
   "id": "1a1680d6-0732-4937-b72a-1b6a17f21f9c",
   "metadata": {},
   "outputs": [
    {
     "data": {
      "text/plain": [
       "[('enters battlefield', 733),\n",
       " ('battlefield tapped', 306),\n",
       " ('draw card', 287),\n",
       " ('target creature', 269),\n",
       " ('end turn', 238),\n",
       " ('enters battlefield tapped', 228),\n",
       " ('creature control', 203),\n",
       " ('search library', 202),\n",
       " ('creatures control', 163),\n",
       " ('card graveyard', 161)]"
      ]
     },
     "execution_count": 173,
     "metadata": {},
     "output_type": "execute_result"
    }
   ],
   "source": [
    "get_top_n_words(X_color_check, 10,2,3)"
   ]
  }
 ],
 "metadata": {
  "kernelspec": {
   "display_name": "Python 3 (ipykernel)",
   "language": "python",
   "name": "python3"
  },
  "language_info": {
   "codemirror_mode": {
    "name": "ipython",
    "version": 3
   },
   "file_extension": ".py",
   "mimetype": "text/x-python",
   "name": "python",
   "nbconvert_exporter": "python",
   "pygments_lexer": "ipython3",
   "version": "3.9.7"
  }
 },
 "nbformat": 4,
 "nbformat_minor": 5
}
